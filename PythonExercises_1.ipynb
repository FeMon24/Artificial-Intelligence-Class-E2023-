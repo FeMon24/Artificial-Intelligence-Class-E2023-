{
 "cells": [
  {
   "attachments": {},
   "cell_type": "markdown",
   "metadata": {},
   "source": [
    "# Federico de Jesús Montes de Oca Flores - 1916227 - A2.- Python Excercises\n",
    "## Decimal to Binary"
   ]
  },
  {
   "cell_type": "code",
   "execution_count": 1,
   "metadata": {},
   "outputs": [],
   "source": [
    "#From 0 to 255 only\n",
    "def dec2Bin(x):\n",
    "    return bin(x)\n",
    "\n",
    "def dec2Bin_2(x):\n",
    "    binNumStr = \"\"\n",
    "    for i in range(8):\n",
    "        binNumStr += f\"{(x & (1 << 7 - i)) >>  (7 - i)}\"\n",
    "    return binNumStr"
   ]
  },
  {
   "cell_type": "code",
   "execution_count": 2,
   "metadata": {},
   "outputs": [
    {
     "name": "stdout",
     "output_type": "stream",
     "text": [
      "0b11111111\n",
      "11111111\n"
     ]
    }
   ],
   "source": [
    "u = 255\n",
    "print(dec2Bin(u))\n",
    "print(dec2Bin_2(u))"
   ]
  },
  {
   "attachments": {},
   "cell_type": "markdown",
   "metadata": {},
   "source": [
    "## Math Pyramid"
   ]
  },
  {
   "cell_type": "code",
   "execution_count": 3,
   "metadata": {},
   "outputs": [],
   "source": [
    "def addAdjacent(numList):\n",
    "    adjecentSum = []\n",
    "    listLength = len(numList)\n",
    "\n",
    "    for i in range(listLength - 1):\n",
    "        adjecentSum.append(numList[i] + numList[i + 1])\n",
    "\n",
    "    return adjecentSum\n",
    "\n",
    "def mathPyramid(numberList):\n",
    "    print(numberList)\n",
    "    if len(numberList) > 1:\n",
    "        newLine = addAdjacent(numberList)\n",
    "        mathPyramid(newLine)"
   ]
  },
  {
   "cell_type": "code",
   "execution_count": 4,
   "metadata": {},
   "outputs": [],
   "source": [
    "def mathPyramid_2(numberList):\n",
    "    pyramid = [numberList]    \n",
    "    for i in range(len(numberList) - 1):\n",
    "        temp = [pyramid[i][j] + pyramid[i][j + 1] for j in range(len(pyramid[i]) - 1)]\n",
    "        pyramid.append(temp)\n",
    "    \n",
    "    for k in pyramid:\n",
    "        print(k)\n"
   ]
  },
  {
   "cell_type": "code",
   "execution_count": 5,
   "metadata": {},
   "outputs": [
    {
     "name": "stdout",
     "output_type": "stream",
     "text": [
      "[20, 5, 10, 8]\n",
      "[25, 15, 18]\n",
      "[40, 33]\n",
      "[73]\n",
      "[20, 5, 10, 8]\n",
      "[25, 15, 18]\n",
      "[40, 33]\n",
      "[73]\n"
     ]
    }
   ],
   "source": [
    "a = [20,5,10,8]\n",
    "mathPyramid(a)\n",
    "mathPyramid_2(a)"
   ]
  }
 ],
 "metadata": {
  "kernelspec": {
   "display_name": "Code",
   "language": "python",
   "name": "python3"
  },
  "language_info": {
   "codemirror_mode": {
    "name": "ipython",
    "version": 3
   },
   "file_extension": ".py",
   "mimetype": "text/x-python",
   "name": "python",
   "nbconvert_exporter": "python",
   "pygments_lexer": "ipython3",
   "version": "3.9.13"
  },
  "orig_nbformat": 4,
  "vscode": {
   "interpreter": {
    "hash": "fbc4fb1d1324ca1a524a439b1e02fee534982d873ed95cff04a344d4c7ede642"
   }
  }
 },
 "nbformat": 4,
 "nbformat_minor": 2
}
