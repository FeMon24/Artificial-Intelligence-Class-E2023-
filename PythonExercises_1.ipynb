{
 "cells": [
  {
   "attachments": {},
   "cell_type": "markdown",
   "metadata": {},
   "source": [
    "# Federico de Jesús Montes de Oca Flores - 1916227 - A2.- Python Excercises\n",
    "## Decimal to Binary"
   ]
  },
  {
   "cell_type": "code",
   "execution_count": 77,
   "metadata": {},
   "outputs": [],
   "source": [
    "#From 0 to 255 only\n",
    "def dec2Bin(x):\n",
    "    return bin(x)\n",
    "\n",
    "def dec2Bin_2(x):\n",
    "    binNumStr = \"\"\n",
    "    for i in range(8):\n",
    "        binNumStr += f\"{(x & (1 << 7 - i)) >>  (7 - i)}\"\n",
    "    return binNumStr"
   ]
  },
  {
   "cell_type": "code",
   "execution_count": 78,
   "metadata": {},
   "outputs": [
    {
     "name": "stdout",
     "output_type": "stream",
     "text": [
      "0b11111111\n",
      "11111111\n"
     ]
    }
   ],
   "source": [
    "u = 255\n",
    "print(dec2Bin(u))\n",
    "print(dec2Bin_2(u))"
   ]
  },
  {
   "attachments": {},
   "cell_type": "markdown",
   "metadata": {},
   "source": [
    "## Math Pyramid"
   ]
  },
  {
   "cell_type": "code",
   "execution_count": 79,
   "metadata": {},
   "outputs": [],
   "source": [
    "def addAdjacent(numList):\n",
    "    adjecentSum = []\n",
    "    listLength = len(numList)\n",
    "\n",
    "    for i in range(listLength - 1):\n",
    "        adjecentSum.append(numList[i] + numList[i + 1])\n",
    "\n",
    "    return adjecentSum\n",
    "\n",
    "def mathPyramid(numberList):\n",
    "    print(numberList)\n",
    "    if len(numberList) > 1:\n",
    "        newLine = addAdjacent(numberList)\n",
    "        mathPyramid(newLine)"
   ]
  },
  {
   "cell_type": "code",
   "execution_count": 80,
   "metadata": {},
   "outputs": [],
   "source": [
    "def mathPyramid_2(numberList):\n",
    "    pyramid = [numberList]    \n",
    "    for i in range(len(numberList) - 1):\n",
    "        temp = [pyramid[i][j] + pyramid[i][j + 1] for j in range(len(pyramid[i]) - 1)]\n",
    "        pyramid.append(temp)\n",
    "    \n",
    "    for k in pyramid:\n",
    "        print(k)\n"
   ]
  },
  {
   "cell_type": "code",
   "execution_count": 81,
   "metadata": {},
   "outputs": [
    {
     "name": "stdout",
     "output_type": "stream",
     "text": [
      "[20, 5, 10, 8]\n",
      "[25, 15, 18]\n",
      "[40, 33]\n",
      "[73]\n",
      "[20, 5, 10, 8]\n",
      "[25, 15, 18]\n",
      "[40, 33]\n",
      "[73]\n"
     ]
    }
   ],
   "source": [
    "a = [20,5,10,8]\n",
    "mathPyramid(a)\n",
    "mathPyramid_2(a)"
   ]
  }
 ],
 "metadata": {
  "kernelspec": {
   "display_name": "base",
   "language": "python",
   "name": "python3"
  },
  "language_info": {
   "codemirror_mode": {
    "name": "ipython",
    "version": 3
   },
   "file_extension": ".py",
   "mimetype": "text/x-python",
   "name": "python",
   "nbconvert_exporter": "python",
   "pygments_lexer": "ipython3",
   "version": "3.9.12"
  },
  "orig_nbformat": 4,
  "vscode": {
   "interpreter": {
    "hash": "a077222d77dfe082b8f1dd562ad70e458ac2ab76993a0b248ab0476e32e9e8dd"
   }
  }
 },
 "nbformat": 4,
 "nbformat_minor": 2
}
